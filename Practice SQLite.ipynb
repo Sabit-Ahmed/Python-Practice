{
 "cells": [
  {
   "cell_type": "code",
   "execution_count": 1,
   "metadata": {},
   "outputs": [],
   "source": [
    "import sqlite3\n",
    "db = sqlite3.connect('company_db.db')"
   ]
  },
  {
   "cell_type": "code",
   "execution_count": 2,
   "metadata": {},
   "outputs": [
    {
     "data": {
      "text/plain": [
       "<sqlite3.Cursor at 0x1edcb6c5730>"
      ]
     },
     "execution_count": 2,
     "metadata": {},
     "output_type": "execute_result"
    }
   ],
   "source": [
    "cursor = db.cursor()\n",
    "cursor.execute(\"CREATE TABLE company (ID INT, Name TEXT, Age int, Address TEXT, Salary real)\")"
   ]
  },
  {
   "cell_type": "code",
   "execution_count": 5,
   "metadata": {},
   "outputs": [
    {
     "data": {
      "text/plain": [
       "<sqlite3.Cursor at 0x1edcb6c5730>"
      ]
     },
     "execution_count": 5,
     "metadata": {},
     "output_type": "execute_result"
    }
   ],
   "source": [
    "query = \"INSERT INTO company VALUES(1122, 'Sabit', 25, 'Mirpur,Bangladesh', 30000.00)\"\n",
    "cursor.execute(query)"
   ]
  },
  {
   "cell_type": "code",
   "execution_count": 6,
   "metadata": {},
   "outputs": [
    {
     "data": {
      "text/plain": [
       "<sqlite3.Cursor at 0x1edcb6c5730>"
      ]
     },
     "execution_count": 6,
     "metadata": {},
     "output_type": "execute_result"
    }
   ],
   "source": [
    "query = \"INSERT INTO company VALUES(1123, 'Sa', 27, 'Mirpur,Bangladesh', 30000.00)\"\n",
    "cursor.execute(query)"
   ]
  },
  {
   "cell_type": "code",
   "execution_count": 9,
   "metadata": {},
   "outputs": [
    {
     "name": "stdout",
     "output_type": "stream",
     "text": [
      "(1122, 'Sabit', 25, 'Mirpur,Bangladesh', 30000.0)\n",
      "(1123, 'Sa', 27, 'Mirpur,Bangladesh', 30000.0)\n"
     ]
    }
   ],
   "source": [
    "query = \"SELECT * FROM company\"\n",
    "data = cursor.execute(query)\n",
    "for i in data:\n",
    "    print(i)"
   ]
  },
  {
   "cell_type": "code",
   "execution_count": 11,
   "metadata": {},
   "outputs": [
    {
     "data": {
      "text/plain": [
       "<sqlite3.Cursor at 0x1edcb6c5880>"
      ]
     },
     "execution_count": 11,
     "metadata": {},
     "output_type": "execute_result"
    }
   ],
   "source": [
    "# Insert a row of data\n",
    "c = db.cursor()\n",
    "c.execute(\"INSERT INTO company (ID, Name, Age, Address, Salary) VALUES (3, 'Venkat', 42, 'Chennai', 400000.00)\")\n",
    "\n",
    "c.execute(\"INSERT INTO company (ID, Name, Age, Address, Salary) VALUES (4, 'Raju', 31, 'Madurai', 400000.00)\")\n",
    "\n",
    "c.execute(\"INSERT INTO company (ID, Name, Age, Address, Salary) VALUES (5, 'Ankit', 25, 'Bangalore', 800000.00)\")\n",
    "\n",
    "c.execute(\"INSERT INTO company (ID, Name, Age, Address, Salary) VALUES (6, 'Ravi', 25, 'Bangalore', 800000.00)\")\n",
    "\n",
    "c.execute(\"INSERT INTO company (ID, Name, Age, Address, Salary) VALUES (7, 'Shivam', 25, 'Bangalore', 800000.00)\")"
   ]
  },
  {
   "cell_type": "code",
   "execution_count": 12,
   "metadata": {},
   "outputs": [
    {
     "name": "stdout",
     "output_type": "stream",
     "text": [
      "(1122, 'Sabit', 25, 'Mirpur,Bangladesh', 30000.0)\n",
      "(1123, 'Sa', 27, 'Mirpur,Bangladesh', 30000.0)\n",
      "(3, 'Venkat', 42, 'Chennai', 400000.0)\n",
      "(4, 'Raju', 31, 'Madurai', 400000.0)\n",
      "(5, 'Ankit', 25, 'Bangalore', 800000.0)\n",
      "(6, 'Ravi', 25, 'Bangalore', 800000.0)\n",
      "(7, 'Shivam', 25, 'Bangalore', 800000.0)\n"
     ]
    }
   ],
   "source": [
    "query = \"SELECT * FROM company\"\n",
    "data = cursor.execute(query)\n",
    "for i in data:\n",
    "    print(i)"
   ]
  },
  {
   "cell_type": "code",
   "execution_count": 13,
   "metadata": {},
   "outputs": [],
   "source": [
    "db.commit()"
   ]
  },
  {
   "cell_type": "code",
   "execution_count": 14,
   "metadata": {},
   "outputs": [],
   "source": [
    "db.close()"
   ]
  },
  {
   "cell_type": "code",
   "execution_count": 16,
   "metadata": {},
   "outputs": [
    {
     "name": "stdout",
     "output_type": "stream",
     "text": [
      "(3, 'Venkat', 42, 'Chennai', 400000.0)\n",
      "(4, 'Raju', 31, 'Madurai', 400000.0)\n",
      "(5, 'Ankit', 25, 'Bangalore', 800000.0)\n",
      "(6, 'Ravi', 25, 'Bangalore', 800000.0)\n",
      "(7, 'Shivam', 25, 'Bangalore', 800000.0)\n"
     ]
    }
   ],
   "source": [
    "db = sqlite3.connect(\"company_db.db\")\n",
    "c = db.cursor()\n",
    "query = \"SELECT * FROM company WHERE Salary>40000\"\n",
    "data = c.execute(query)\n",
    "for i in data:\n",
    "    print(i)"
   ]
  },
  {
   "cell_type": "code",
   "execution_count": 18,
   "metadata": {},
   "outputs": [
    {
     "name": "stdout",
     "output_type": "stream",
     "text": [
      "(1122, 'Sabit', 25, 'Mirpur,Bangladesh', 30000.0)\n",
      "(1123, 'Sa', 27, 'Mirpur,Bangladesh', 30000.0)\n"
     ]
    }
   ],
   "source": [
    "query = \"SELECT * FROM company WHERE Address='Mirpur,Bangladesh'\"\n",
    "data = c.execute(query)\n",
    "for i in data:\n",
    "    print(i)"
   ]
  },
  {
   "cell_type": "code",
   "execution_count": 23,
   "metadata": {},
   "outputs": [
    {
     "name": "stdout",
     "output_type": "stream",
     "text": [
      "(5, 'Ankit', 25, 'Bangalore', 800000.0)\n",
      "(3, 'Venkat', 42, 'Chennai', 400000.0)\n",
      "(4, 'Raju', 31, 'Madurai', 400000.0)\n",
      "(1122, 'Sabit', 25, 'Mirpur,Bangladesh', 30000.0)\n"
     ]
    }
   ],
   "source": [
    "query = \"SELECT * FROM company GROUP BY Address\"\n",
    "data = c.execute(query)\n",
    "for i in data:\n",
    "    print(i)"
   ]
  },
  {
   "cell_type": "code",
   "execution_count": 25,
   "metadata": {},
   "outputs": [
    {
     "name": "stdout",
     "output_type": "stream",
     "text": [
      "(1122, 25)\n",
      "(5, 25)\n",
      "(6, 25)\n",
      "(7, 25)\n",
      "(1123, 27)\n",
      "(4, 31)\n",
      "(3, 42)\n"
     ]
    }
   ],
   "source": [
    "query = \"SELECT ID,Age FROM company ORDER BY Age\"\n",
    "data = c.execute(query)\n",
    "for i in data:\n",
    "    print(i)"
   ]
  },
  {
   "cell_type": "code",
   "execution_count": 26,
   "metadata": {},
   "outputs": [
    {
     "name": "stdout",
     "output_type": "stream",
     "text": [
      "(3, 42)\n",
      "(4, 31)\n",
      "(1123, 27)\n",
      "(1122, 25)\n",
      "(5, 25)\n",
      "(6, 25)\n",
      "(7, 25)\n"
     ]
    }
   ],
   "source": [
    "query = \"SELECT ID,Age FROM company ORDER BY Age DESC\"\n",
    "data = c.execute(query)\n",
    "for i in data:\n",
    "    print(i)"
   ]
  },
  {
   "cell_type": "code",
   "execution_count": 27,
   "metadata": {},
   "outputs": [
    {
     "data": {
      "text/plain": [
       "<sqlite3.Cursor at 0x1edcb7eb7a0>"
      ]
     },
     "execution_count": 27,
     "metadata": {},
     "output_type": "execute_result"
    }
   ],
   "source": [
    "# importing sqlite\n",
    "import sqlite3\n",
    "\n",
    "#connecting with the database.\n",
    "db = sqlite3.connect(\"food_database.db\")\n",
    "c = db.cursor()\n",
    "\n",
    "# Create table to store food name and their colories\n",
    "c.execute('CREATE TABLE food(Name text, Calories int)') \n",
    "\n",
    "# Insert a row of data\n",
    "c.execute(\"INSERT INTO food VALUES ('Mango', 60)\")\n",
    "c.execute(\"INSERT INTO food VALUES ('Samosa',262)\")\n"
   ]
  },
  {
   "cell_type": "code",
   "execution_count": 28,
   "metadata": {},
   "outputs": [
    {
     "name": "stdout",
     "output_type": "stream",
     "text": [
      "('Mango', 60)\n",
      "('Samosa', 262)\n"
     ]
    }
   ],
   "source": [
    "data=c.execute(\"SELECT * FROM food\")\n",
    "for i in data:\n",
    "    print(i)"
   ]
  },
  {
   "cell_type": "code",
   "execution_count": 29,
   "metadata": {},
   "outputs": [],
   "source": [
    "db.commit()"
   ]
  },
  {
   "cell_type": "code",
   "execution_count": 31,
   "metadata": {},
   "outputs": [
    {
     "data": {
      "text/plain": [
       "<sqlite3.Cursor at 0x1edcb7eb7a0>"
      ]
     },
     "execution_count": 31,
     "metadata": {},
     "output_type": "execute_result"
    }
   ],
   "source": [
    "c.execute(\"DROP TABLE IF EXISTS food\")"
   ]
  },
  {
   "cell_type": "code",
   "execution_count": 32,
   "metadata": {},
   "outputs": [
    {
     "ename": "OperationalError",
     "evalue": "no such table: food",
     "output_type": "error",
     "traceback": [
      "\u001b[1;31m---------------------------------------------------------------------------\u001b[0m",
      "\u001b[1;31mOperationalError\u001b[0m                          Traceback (most recent call last)",
      "\u001b[1;32m<ipython-input-32-a8a8a3bedbf1>\u001b[0m in \u001b[0;36m<module>\u001b[1;34m\u001b[0m\n\u001b[1;32m----> 1\u001b[1;33m \u001b[0mdata\u001b[0m\u001b[1;33m=\u001b[0m\u001b[0mc\u001b[0m\u001b[1;33m.\u001b[0m\u001b[0mexecute\u001b[0m\u001b[1;33m(\u001b[0m\u001b[1;34m\"SELECT * FROM food\"\u001b[0m\u001b[1;33m)\u001b[0m\u001b[1;33m\u001b[0m\u001b[1;33m\u001b[0m\u001b[0m\n\u001b[0m\u001b[0;32m      2\u001b[0m \u001b[1;32mfor\u001b[0m \u001b[0mi\u001b[0m \u001b[1;32min\u001b[0m \u001b[0mdata\u001b[0m\u001b[1;33m:\u001b[0m\u001b[1;33m\u001b[0m\u001b[1;33m\u001b[0m\u001b[0m\n\u001b[0;32m      3\u001b[0m     \u001b[0mprint\u001b[0m\u001b[1;33m(\u001b[0m\u001b[0mi\u001b[0m\u001b[1;33m)\u001b[0m\u001b[1;33m\u001b[0m\u001b[1;33m\u001b[0m\u001b[0m\n",
      "\u001b[1;31mOperationalError\u001b[0m: no such table: food"
     ]
    }
   ],
   "source": [
    "data=c.execute(\"SELECT * FROM food\")\n",
    "for i in data:\n",
    "    print(i)"
   ]
  },
  {
   "cell_type": "markdown",
   "metadata": {},
   "source": [
    "# Some understandings\n",
    "Have to commit if Insert, Update, Delete from table.\n",
    "\n",
    "No commit needed for table creation, table deletion, db creation, db deletion"
   ]
  },
  {
   "cell_type": "code",
   "execution_count": 38,
   "metadata": {},
   "outputs": [
    {
     "ename": "OperationalError",
     "evalue": "near \"Databases\": syntax error",
     "output_type": "error",
     "traceback": [
      "\u001b[1;31m---------------------------------------------------------------------------\u001b[0m",
      "\u001b[1;31mOperationalError\u001b[0m                          Traceback (most recent call last)",
      "\u001b[1;32m<ipython-input-38-283234bca1d7>\u001b[0m in \u001b[0;36m<module>\u001b[1;34m\u001b[0m\n\u001b[1;32m----> 1\u001b[1;33m \u001b[0mc\u001b[0m\u001b[1;33m.\u001b[0m\u001b[0mexecute\u001b[0m\u001b[1;33m(\u001b[0m\u001b[1;34m\"DROP Databases IF EXISTS food_database\"\u001b[0m\u001b[1;33m)\u001b[0m\u001b[1;33m\u001b[0m\u001b[1;33m\u001b[0m\u001b[0m\n\u001b[0m",
      "\u001b[1;31mOperationalError\u001b[0m: near \"Databases\": syntax error"
     ]
    }
   ],
   "source": [
    "c.execute(\"DROP Database IF EXISTS food_database\")"
   ]
  },
  {
   "cell_type": "markdown",
   "metadata": {},
   "source": [
    "SQLite does not use the DROP DATABASE statement like many other database management systems do.\n",
    "\n",
    "It doesn't use the CREATE DATABASE statement either.\n",
    "\n",
    "If you need to completely remove a database, you will need to delete the database file from the file system."
   ]
  },
  {
   "cell_type": "code",
   "execution_count": null,
   "metadata": {},
   "outputs": [],
   "source": []
  }
 ],
 "metadata": {
  "kernelspec": {
   "display_name": "Python 3",
   "language": "python",
   "name": "python3"
  },
  "language_info": {
   "codemirror_mode": {
    "name": "ipython",
    "version": 3
   },
   "file_extension": ".py",
   "mimetype": "text/x-python",
   "name": "python",
   "nbconvert_exporter": "python",
   "pygments_lexer": "ipython3",
   "version": "3.7.3"
  }
 },
 "nbformat": 4,
 "nbformat_minor": 4
}
