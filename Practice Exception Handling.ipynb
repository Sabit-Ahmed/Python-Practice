{
 "cells": [
  {
   "cell_type": "markdown",
   "metadata": {},
   "source": [
    "# Modules and Packages"
   ]
  },
  {
   "cell_type": "code",
   "execution_count": 2,
   "metadata": {},
   "outputs": [
    {
     "name": "stdout",
     "output_type": "stream",
     "text": [
      "['__doc__', '__loader__', '__name__', '__package__', '__spec__', 'acos', 'acosh', 'asin', 'asinh', 'atan', 'atan2', 'atanh', 'ceil', 'copysign', 'cos', 'cosh', 'degrees', 'e', 'erf', 'erfc', 'exp', 'expm1', 'fabs', 'factorial', 'floor', 'fmod', 'frexp', 'fsum', 'gamma', 'gcd', 'hypot', 'inf', 'isclose', 'isfinite', 'isinf', 'isnan', 'ldexp', 'lgamma', 'log', 'log10', 'log1p', 'log2', 'modf', 'nan', 'pi', 'pow', 'radians', 'remainder', 'sin', 'sinh', 'sqrt', 'tan', 'tanh', 'tau', 'trunc']\n"
     ]
    }
   ],
   "source": [
    "import math\n",
    "print(dir(math))"
   ]
  },
  {
   "cell_type": "code",
   "execution_count": 3,
   "metadata": {},
   "outputs": [
    {
     "name": "stdout",
     "output_type": "stream",
     "text": [
      "Help on built-in function pow in module math:\n",
      "\n",
      "pow(x, y, /)\n",
      "    Return x**y (x to the power of y).\n",
      "\n"
     ]
    }
   ],
   "source": [
    "help(math.pow)"
   ]
  },
  {
   "cell_type": "code",
   "execution_count": 6,
   "metadata": {},
   "outputs": [
    {
     "name": "stdout",
     "output_type": "stream",
     "text": [
      "Please enter an integer: a\n",
      "Looks like you did not enter an integer!\n",
      "Try again-Please enter an integer: a\n",
      "handle it \n",
      "Finally, I executed!\n"
     ]
    }
   ],
   "source": [
    "def askint():\n",
    "        try:\n",
    "            val = int(input(\"Please enter an integer: \"))\n",
    "        except:\n",
    "            print(\"Looks like you did not enter an integer!\")\n",
    "            try:\n",
    "                val = int(input(\"Try again-Please enter an integer: \"))\n",
    "            except:\n",
    "                print(\"handle it \")\n",
    "        finally:\n",
    "            print(\"Finally, I executed!\")\n",
    "            \n",
    "askint()"
   ]
  },
  {
   "cell_type": "code",
   "execution_count": 5,
   "metadata": {},
   "outputs": [
    {
     "name": "stdout",
     "output_type": "stream",
     "text": [
      "Please enter an integer: a\n",
      "Looks like you did not enter an integer!\n",
      "Please enter an integer: s\n",
      "Looks like you did not enter an integer!\n",
      "Please enter an integer: df\n",
      "Looks like you did not enter an integer!\n",
      "Please enter an integer: 2\n",
      "Finally, I executed!\n",
      "Finally, I executed!\n",
      "Finally, I executed!\n",
      "Finally, I executed!\n"
     ]
    }
   ],
   "source": [
    "def askint():\n",
    "        try:\n",
    "            val = int(input(\"Please enter an integer: \"))\n",
    "        except:\n",
    "            print(\"Looks like you did not enter an integer!\")\n",
    "            try:\n",
    "                askint()\n",
    "            except:\n",
    "                print(\"handle it \")\n",
    "        finally:\n",
    "            print(\"Finally, I executed!\")\n",
    "            \n",
    "askint()"
   ]
  },
  {
   "cell_type": "markdown",
   "metadata": {},
   "source": [
    "Here the function askint() has been called 3 times!. So finally executed 3 times."
   ]
  },
  {
   "cell_type": "code",
   "execution_count": 3,
   "metadata": {},
   "outputs": [],
   "source": [
    "def askint1():\n",
    "    while True:\n",
    "        try:\n",
    "            val = int(input(\"Please enter an integer: \"))\n",
    "        except:\n",
    "            print(\"Looks like you did not enter an integer!\")\n",
    "            continue\n",
    "        else:\n",
    "            print('Yep thats an integer!')\n",
    "            break\n",
    "        finally:\n",
    "            print(\"Finally, I executed!\")\n",
    "            \n",
    "            "
   ]
  },
  {
   "cell_type": "code",
   "execution_count": 4,
   "metadata": {},
   "outputs": [
    {
     "name": "stdout",
     "output_type": "stream",
     "text": [
      "Please enter an integer: a\n",
      "Looks like you did not enter an integer!\n",
      "Finally, I executed!\n",
      "Please enter an integer: a\n",
      "Looks like you did not enter an integer!\n",
      "Finally, I executed!\n",
      "Please enter an integer: c\n",
      "Looks like you did not enter an integer!\n",
      "Finally, I executed!\n",
      "Please enter an integer: 1\n",
      "Yep thats an integer!\n",
      "Finally, I executed!\n"
     ]
    }
   ],
   "source": [
    "askint1()"
   ]
  },
  {
   "cell_type": "code",
   "execution_count": 6,
   "metadata": {},
   "outputs": [
    {
     "ename": "Exception",
     "evalue": "This is greater than 10!",
     "output_type": "error",
     "traceback": [
      "\u001b[1;31m---------------------------------------------------------------------------\u001b[0m",
      "\u001b[1;31mException\u001b[0m                                 Traceback (most recent call last)",
      "\u001b[1;32m<ipython-input-6-4b594be486be>\u001b[0m in \u001b[0;36m<module>\u001b[1;34m\u001b[0m\n\u001b[0;32m      1\u001b[0m \u001b[0mi\u001b[0m\u001b[1;33m=\u001b[0m\u001b[1;36m10\u001b[0m\u001b[1;33m\u001b[0m\u001b[1;33m\u001b[0m\u001b[0m\n\u001b[0;32m      2\u001b[0m \u001b[1;32mif\u001b[0m \u001b[0mi\u001b[0m\u001b[1;33m>\u001b[0m\u001b[1;36m5\u001b[0m\u001b[1;33m:\u001b[0m\u001b[1;33m\u001b[0m\u001b[1;33m\u001b[0m\u001b[0m\n\u001b[1;32m----> 3\u001b[1;33m     \u001b[1;32mraise\u001b[0m \u001b[0mException\u001b[0m\u001b[1;33m(\u001b[0m\u001b[1;34m\"This is greater than 10!\"\u001b[0m\u001b[1;33m)\u001b[0m\u001b[1;33m\u001b[0m\u001b[1;33m\u001b[0m\u001b[0m\n\u001b[0m",
      "\u001b[1;31mException\u001b[0m: This is greater than 10!"
     ]
    }
   ],
   "source": [
    "i=10\n",
    "if i>5:\n",
    "    raise Exception(\"This is greater than 10!\")"
   ]
  },
  {
   "cell_type": "code",
   "execution_count": 7,
   "metadata": {},
   "outputs": [
    {
     "name": "stdout",
     "output_type": "stream",
     "text": [
      "This is greater than 10!\n"
     ]
    }
   ],
   "source": [
    "try:\n",
    "    i=10\n",
    "    if i>5:\n",
    "        raise Exception(\"This is greater than 10!\")\n",
    "except Exception as e:\n",
    "    print(e)"
   ]
  },
  {
   "cell_type": "markdown",
   "metadata": {},
   "source": [
    "# Database connectivity"
   ]
  },
  {
   "cell_type": "code",
   "execution_count": 8,
   "metadata": {},
   "outputs": [],
   "source": [
    "import sqlite3"
   ]
  },
  {
   "cell_type": "code",
   "execution_count": 9,
   "metadata": {},
   "outputs": [],
   "source": [
    "db = sqlite3.connect(\"abc\")"
   ]
  },
  {
   "cell_type": "code",
   "execution_count": 10,
   "metadata": {},
   "outputs": [
    {
     "data": {
      "text/plain": [
       "<sqlite3.Cursor at 0x11a08328880>"
      ]
     },
     "execution_count": 10,
     "metadata": {},
     "output_type": "execute_result"
    }
   ],
   "source": [
    "db.execute(\"drop table if exists student\")"
   ]
  },
  {
   "cell_type": "code",
   "execution_count": 11,
   "metadata": {},
   "outputs": [
    {
     "data": {
      "text/plain": [
       "<sqlite3.Cursor at 0x11a08328ab0>"
      ]
     },
     "execution_count": 11,
     "metadata": {},
     "output_type": "execute_result"
    }
   ],
   "source": [
    "db.execute(\"create table student(ID int, name text, year int)\")"
   ]
  },
  {
   "cell_type": "code",
   "execution_count": 20,
   "metadata": {},
   "outputs": [
    {
     "data": {
      "text/plain": [
       "<sqlite3.Cursor at 0x11a08328650>"
      ]
     },
     "execution_count": 20,
     "metadata": {},
     "output_type": "execute_result"
    }
   ],
   "source": [
    "db.execute(\"insert into student(ID, name, year) values(101, 'sabit', 2015)\")\n",
    "db.execute(\"insert into student(ID, name, year) values(102, 'fahim', 2015)\")\n",
    "db.execute(\"insert into student(ID, name, year) values(103, 'abir', 2015)\")\n",
    "db.execute(\"insert into student(ID, name, year) values(104, 'radh', 2015)\")"
   ]
  },
  {
   "cell_type": "code",
   "execution_count": 21,
   "metadata": {},
   "outputs": [],
   "source": [
    "db.commit()"
   ]
  },
  {
   "cell_type": "code",
   "execution_count": 23,
   "metadata": {},
   "outputs": [
    {
     "name": "stdout",
     "output_type": "stream",
     "text": [
      "(101, 'sabit', 2015)\n",
      "(101, 'sabit', 2015)\n",
      "(102, 'fahim', 2015)\n",
      "(101, 'abir', 2015)\n",
      "(101, 'radh', 2015)\n",
      "(101, 'sabit', 2015)\n",
      "(102, 'fahim', 2015)\n",
      "(103, 'abir', 2015)\n",
      "(104, 'radh', 2015)\n",
      "(101, 'sabit', 2015)\n",
      "(102, 'fahim', 2015)\n",
      "(103, 'abir', 2015)\n",
      "(104, 'radh', 2015)\n",
      "------------------------------------------------------------\n"
     ]
    }
   ],
   "source": [
    "year = db.execute(\"select * from student where year=2015\")\n",
    "for i in year:\n",
    "    print(i)\n",
    "print(\"-\" * 60 )"
   ]
  },
  {
   "cell_type": "code",
   "execution_count": 25,
   "metadata": {},
   "outputs": [
    {
     "name": "stdout",
     "output_type": "stream",
     "text": [
      "(101, 'sabit', 2015)\n",
      "(101, 'sabit', 2015)\n",
      "(101, 'abir', 2015)\n",
      "(101, 'radh', 2015)\n",
      "(101, 'sabit', 2015)\n",
      "(101, 'sabit', 2015)\n",
      "(102, 'fahim', 2015)\n",
      "(102, 'fahim', 2015)\n",
      "(102, 'fahim', 2015)\n",
      "(103, 'abir', 2015)\n",
      "(103, 'abir', 2015)\n",
      "(104, 'radh', 2015)\n",
      "(104, 'radh', 2015)\n",
      "------------------------------------------------------------\n"
     ]
    }
   ],
   "source": [
    "all = db.execute(\"select * from student order by ID\")\n",
    "for i in all:\n",
    "    print(i)\n",
    "print(\"-\" * 60 )"
   ]
  },
  {
   "cell_type": "code",
   "execution_count": 26,
   "metadata": {},
   "outputs": [
    {
     "name": "stdout",
     "output_type": "stream",
     "text": [
      "(104, 'radh', 2015)\n",
      "(104, 'radh', 2015)\n",
      "(103, 'abir', 2015)\n",
      "(103, 'abir', 2015)\n",
      "(102, 'fahim', 2015)\n",
      "(102, 'fahim', 2015)\n",
      "(102, 'fahim', 2015)\n",
      "(101, 'sabit', 2015)\n",
      "(101, 'sabit', 2015)\n",
      "(101, 'abir', 2015)\n",
      "(101, 'radh', 2015)\n",
      "(101, 'sabit', 2015)\n",
      "(101, 'sabit', 2015)\n",
      "------------------------------------------------------------\n"
     ]
    }
   ],
   "source": [
    "all = db.execute(\"select * from student order by ID desc\")\n",
    "for i in all:\n",
    "    print(i)\n",
    "print(\"-\" * 60 )"
   ]
  }
 ],
 "metadata": {
  "kernelspec": {
   "display_name": "Python 3",
   "language": "python",
   "name": "python3"
  },
  "language_info": {
   "codemirror_mode": {
    "name": "ipython",
    "version": 3
   },
   "file_extension": ".py",
   "mimetype": "text/x-python",
   "name": "python",
   "nbconvert_exporter": "python",
   "pygments_lexer": "ipython3",
   "version": "3.7.3"
  }
 },
 "nbformat": 4,
 "nbformat_minor": 4
}
