{
 "cells": [
  {
   "cell_type": "markdown",
   "metadata": {},
   "source": [
    "# Inheritance"
   ]
  },
  {
   "cell_type": "code",
   "execution_count": 1,
   "metadata": {},
   "outputs": [
    {
     "name": "stdout",
     "output_type": "stream",
     "text": [
      "10.825317547305483\n"
     ]
    }
   ],
   "source": [
    "class setter:\n",
    "  def __init__(self, a, b, c):\n",
    "    self.a = a\n",
    "    self.b = b\n",
    "    self.c = c\n",
    "\n",
    "class triangle(setter):\n",
    "  def __init__(self, a, b, c):\n",
    "    setter.__init__(self, a, b, c)\n",
    "\n",
    "  def triangle(self):\n",
    "    s = (self.a + self.b + self.c)/2\n",
    "    area = (s*(s-self.a)*(s-self.b)*(s-self.c))**0.5\n",
    "    return area\n",
    "\n",
    "area = triangle(5,5,5)\n",
    "print(area.triangle())"
   ]
  },
  {
   "cell_type": "code",
   "execution_count": 2,
   "metadata": {},
   "outputs": [
    {
     "name": "stdout",
     "output_type": "stream",
     "text": [
      "10.825317547305483\n"
     ]
    }
   ],
   "source": [
    "class setter:\n",
    "  def __init__(self, a, b):\n",
    "    self.a = a\n",
    "    self.b = b\n",
    "\n",
    "class triangle(setter):\n",
    "  def __init__(self, a, b, c):\n",
    "    setter.__init__(self, a, b)\n",
    "    self.c = c\n",
    "\n",
    "  def triangle(self):\n",
    "    s = (self.a + self.b + self.c)/2\n",
    "    area = (s*(s-self.a)*(s-self.b)*(s-self.c))**0.5\n",
    "    return area\n",
    "\n",
    "area = triangle(5,5,5)\n",
    "print(area.triangle())"
   ]
  },
  {
   "cell_type": "code",
   "execution_count": 3,
   "metadata": {},
   "outputs": [
    {
     "name": "stdout",
     "output_type": "stream",
     "text": [
      "10.825317547305483\n"
     ]
    }
   ],
   "source": [
    "class setter:\n",
    "  def __init__(self,a):\n",
    "    self.a = a\n",
    "\n",
    "class triangle(setter):\n",
    "  def __init__(self, a, b, c):\n",
    "    super(triangle, self).__init__(a)\n",
    "    self.b = b\n",
    "    self.c = c\n",
    "\n",
    "  def triangle(self):\n",
    "    s = (self.a + self.b + self.c)/2\n",
    "    area = (s*(s-self.a)*(s-self.b)*(s-self.c))**0.5\n",
    "    return area\n",
    "\n",
    "area = triangle(5,5,5)\n",
    "print(area.triangle())"
   ]
  },
  {
   "cell_type": "code",
   "execution_count": 40,
   "metadata": {},
   "outputs": [
    {
     "name": "stdout",
     "output_type": "stream",
     "text": [
      "10.825317547305483\n"
     ]
    }
   ],
   "source": [
    "class setter:\n",
    "  def set_length(self,a, b, c):\n",
    "    self.a = a\n",
    "    self.b = b\n",
    "    self.c = c\n",
    "\n",
    "class triangle(setter):\n",
    "  def __init__(self, a, b, c):\n",
    "    super(triangle, self).set_length(a, b, c)\n",
    "\n",
    "  def triangle(self):\n",
    "    s = (self.a + self.b + self.c)/2\n",
    "    area = (s*(s-self.a)*(s-self.b)*(s-self.c))**0.5\n",
    "    return area\n",
    "\n",
    "area = triangle(5,5,5)\n",
    "print(area.triangle())"
   ]
  },
  {
   "cell_type": "code",
   "execution_count": 47,
   "metadata": {},
   "outputs": [
    {
     "name": "stdout",
     "output_type": "stream",
     "text": [
      "10.825317547305483\n"
     ]
    }
   ],
   "source": [
    "class setter:\n",
    "    def set_length(self,a, b, c):\n",
    "        self.a2 = a\n",
    "        self.b2 = b\n",
    "        self.c2 = c\n",
    "\n",
    "class triangle(setter):\n",
    "    def __init__(self, *args):\n",
    "        super(triangle, self).set_length(*args)\n",
    "\n",
    "    def trianglefn(self):\n",
    "        s = (self.a2 + self.b2 + self.c2)/2\n",
    "        area = (s*(s-self.a2)*(s-self.b2)*(s-self.c2))**0.5\n",
    "        return area\n",
    "\n",
    "area = triangle(5,5,5)\n",
    "print(area.trianglefn())"
   ]
  },
  {
   "cell_type": "code",
   "execution_count": 54,
   "metadata": {},
   "outputs": [
    {
     "name": "stdout",
     "output_type": "stream",
     "text": [
      "Parent class value: 4, 9, 16\n",
      "Inherited value: 20, 45, 80\n",
      "72.5\n"
     ]
    }
   ],
   "source": [
    "class setter:\n",
    "    def set_length(self, a, b, c):\n",
    "        self.a2 = a**2\n",
    "        self.b2 = b**2\n",
    "        self.c2 = c**2\n",
    "        print(\"Parent class value: {}, {}, {}\".format(self.a2, self.b2, self.c2))\n",
    "\n",
    "class triangle(setter):\n",
    "    def __init__(self, a, b, c):\n",
    "        setter.set_length(self, a, b, c)\n",
    "        \n",
    "    def trianglefn(self):\n",
    "        a1 = self.a2*5\n",
    "        b1 = self.b2*5\n",
    "        c1 = self.c2*5\n",
    "        print(\"Inherited value: %d, %d, %d\" %(a1, b1, c1))\n",
    "        s = (a1 + b1 + c1)/2\n",
    "        return s\n",
    "\n",
    "square = triangle(2,3,4)\n",
    "print(square.trianglefn())"
   ]
  },
  {
   "cell_type": "markdown",
   "metadata": {},
   "source": [
    "Any function with parameter should be used with __init__() function in a child class for inheritance.\n",
    "Custom functions without parameters can be used for inheritance without __init__() function."
   ]
  },
  {
   "cell_type": "code",
   "execution_count": 63,
   "metadata": {},
   "outputs": [
    {
     "name": "stdout",
     "output_type": "stream",
     "text": [
      "This is from class A\n"
     ]
    }
   ],
   "source": [
    "class A:\n",
    "    def testA():\n",
    "        return \"This is from class A\"\n",
    "    \n",
    "class B(A):\n",
    "    def testB():\n",
    "        return A.testA()\n",
    "\n",
    "class C(B):\n",
    "    t1 = B.testB()\n",
    "    \n",
    "\n",
    "obj1=C.t1\n",
    "print(obj1)\n"
   ]
  },
  {
   "cell_type": "code",
   "execution_count": 64,
   "metadata": {},
   "outputs": [
    {
     "name": "stdout",
     "output_type": "stream",
     "text": [
      "This is from class A and This is modified by B\n"
     ]
    }
   ],
   "source": [
    "class A:\n",
    "    def testA():\n",
    "        a = \"This is from class A\"\n",
    "        return a\n",
    "    \n",
    "class B(A):\n",
    "    def testA():\n",
    "        b = \" and This is modified by B\"\n",
    "        a = A.testA()\n",
    "        c = a+b\n",
    "        return c\n",
    "\n",
    "class C(B):\n",
    "    t1 = B.testA()\n",
    "    \n",
    "\n",
    "obj1=C.t1\n",
    "print(obj1)"
   ]
  },
  {
   "cell_type": "code",
   "execution_count": 70,
   "metadata": {},
   "outputs": [
    {
     "name": "stdout",
     "output_type": "stream",
     "text": [
      "10.825317547305483\n"
     ]
    }
   ],
   "source": [
    "class setterA:\n",
    "    def set_length(self,a):\n",
    "        self.a = a\n",
    "class setterB:\n",
    "    def set_length(self,b):\n",
    "        self.b = b\n",
    "class setterC:\n",
    "    def set_length(self,c):\n",
    "        self.c = c\n",
    "    \n",
    "class triangle(setterA, setterB, setterC):\n",
    "    def __init__(self, a, b, c):\n",
    "        #super(triangle, self).set_length(a)\n",
    "        \n",
    "        setterA.set_length(self,a)\n",
    "        setterB.set_length(self,b)\n",
    "        setterC.set_length(self,c)\n",
    "\n",
    "\n",
    "    def triangle(self):\n",
    "        s = (self.a + self.b + self.c)/2\n",
    "        area = (s*(s-self.a)*(s-self.b)*(s-self.c))**0.5\n",
    "        return area\n",
    "\n",
    "area = triangle(5,5,5)\n",
    "print(area.triangle())"
   ]
  },
  {
   "cell_type": "markdown",
   "metadata": {},
   "source": [
    "Can I access function's variables of a parent class from a child class without init() method?\n",
    "\n",
    "For multiple inheritance how super() is used?"
   ]
  },
  {
   "cell_type": "code",
   "execution_count": 71,
   "metadata": {},
   "outputs": [
    {
     "name": "stdout",
     "output_type": "stream",
     "text": [
      "10.825317547305483\n"
     ]
    }
   ],
   "source": [
    "class setterA:\n",
    "    def set_length(self,a):\n",
    "        self.a = a\n",
    "class setterB:\n",
    "    def set_length(self,b):\n",
    "        self.b = b\n",
    "    \n",
    "class triangle(setterA, setterB, setterC):\n",
    "    def __init__(self, a,b,c):\n",
    "        #super(triangle, self).set_length(a,b,c)\n",
    "        \n",
    "        #super(triangle, self).set_length(a)\n",
    "        #super(triangle, self).set_length(b)\n",
    "        #super(triangle, self).set_length(c)\n",
    "        \n",
    "        setterA.set_length(self,a)\n",
    "        setterB.set_length(self,b)\n",
    "        self.c = c\n",
    "        \n",
    "\n",
    "\n",
    "    def triangle(self):\n",
    "        s = (self.a + self.b + self.c)/2\n",
    "        area = (s*(s-self.a)*(s-self.b)*(s-self.c))**0.5\n",
    "        return area\n",
    "\n",
    "area = triangle(5,5,5)\n",
    "print(area.triangle())"
   ]
  },
  {
   "cell_type": "markdown",
   "metadata": {},
   "source": [
    "# Overriding"
   ]
  },
  {
   "cell_type": "code",
   "execution_count": 81,
   "metadata": {},
   "outputs": [
    {
     "name": "stdout",
     "output_type": "stream",
     "text": [
      "Lengths of each side (class A): 25, 25, 25 and Lengths of each side (class B): 25, 25, 25\n"
     ]
    }
   ],
   "source": [
    "class setterA:\n",
    "    def set_length(self,a,b,c):\n",
    "        self.a = a\n",
    "        self.b = b\n",
    "        self.c = c\n",
    "        \n",
    "    def __str__(self):\n",
    "        return \"Lengths of each side (class A): %s, %s, %s\" %(self.a,self.b,self.c)\n",
    "    \n",
    "class triangle(setterA):\n",
    "    def __init__(self, a,b,c):\n",
    "        #super(triangle, self).set_length(a,b,c)\n",
    "        setterA.set_length(self,a,b,c)\n",
    "        self.a = a**2\n",
    "        self.b = b**2\n",
    "        self.c = c**2\n",
    "    \n",
    "    def __str__(self):\n",
    "        return setterA.__str__(self)+\" and Lengths of each side (class B): %s, %s, %s\" %(self.a,self.b,self.c)\n",
    "\n",
    "area2 = triangle(5,5,5)\n",
    "print(area2)"
   ]
  },
  {
   "cell_type": "code",
   "execution_count": 86,
   "metadata": {},
   "outputs": [
    {
     "name": "stdout",
     "output_type": "stream",
     "text": [
      "Lengths of each side (class A): 5, 5, 5 and Lengths of each side (class B): 25, 25, 25\n"
     ]
    }
   ],
   "source": [
    "class setterA:\n",
    "    def set_length(self,a,b,c):\n",
    "        self.a = a\n",
    "        self.b = b\n",
    "        self.c = c\n",
    "        \n",
    "    def __str__(self):\n",
    "        return \"Lengths of each side (class A): %s, %s, %s\" %(self.a,self.b,self.c)\n",
    "    \n",
    "class triangle(setterA):\n",
    "    def __init__(self, a,b,c):\n",
    "        #super(triangle, self).set_length(a,b,c)\n",
    "        setterA.set_length(self,a,b,c)\n",
    "        self.d = a**2\n",
    "        self.e = b**2\n",
    "        self.f = c**2\n",
    "    \n",
    "    def __str__(self):\n",
    "        return setterA.__str__(self)+\" and Lengths of each side (class B): %s, %s, %s\" %(self.d,self.e,self.f)\n",
    "\n",
    "area2 = triangle(5,5,5)\n",
    "print(area2)"
   ]
  },
  {
   "cell_type": "code",
   "execution_count": 85,
   "metadata": {},
   "outputs": [
    {
     "name": "stdout",
     "output_type": "stream",
     "text": [
      "Lengths of each side (class A): 5, 5, 5 and Lengths new side (class B): 10\n"
     ]
    }
   ],
   "source": [
    "class setterA:\n",
    "    def set_length(self,a,b,c):\n",
    "        self.a = a\n",
    "        self.b = b\n",
    "        self.c = c\n",
    "        \n",
    "    def __str__(self):\n",
    "        return \"Lengths of each side (class A): %s, %s, %s\" %(self.a,self.b,self.c)\n",
    "    \n",
    "class triangle(setterA):\n",
    "    def __init__(self, a,b,c,d):\n",
    "        #super(triangle, self).set_length(a,b,c)\n",
    "        setterA.set_length(self,a,b,c)\n",
    "        self.d = d\n",
    "    \n",
    "    def __str__(self):\n",
    "        return setterA.__str__(self)+\" and Lengths new side (class B): %s\" %(self.d)\n",
    "\n",
    "area2 = triangle(5,5,5,10)\n",
    "print(area2)"
   ]
  },
  {
   "cell_type": "markdown",
   "metadata": {},
   "source": [
    "# Encapsulation"
   ]
  },
  {
   "cell_type": "code",
   "execution_count": 98,
   "metadata": {},
   "outputs": [
    {
     "name": "stdout",
     "output_type": "stream",
     "text": [
      "Car:\n",
      "Brand:\n",
      " \tName: Ferrari\n",
      " \tManufacturing Country: Itay-Dutch\n",
      " \tEstablished in: 1940\n",
      "Engine:\n",
      " \tFuel Type: Gasoline\n",
      " \tManucturing City: Maranello\n",
      "Price:\n",
      " \tRange: High\n"
     ]
    }
   ],
   "source": [
    "class Brand:\n",
    "    def __init__(self, name, country, year):\n",
    "        self.country = country\n",
    "        self.year = year\n",
    "        self.name = name\n",
    "        \n",
    "    def __str__(self):\n",
    "        return (\"Brand:\\n \\tName: \"+self.name+\n",
    "                \"\\n \\tManufacturing Country: \"+self.country+\n",
    "               \"\\n \\tEstablished in: \"+str(self.year)\n",
    "                )\n",
    "\n",
    "class Engine:\n",
    "    def __init__(self, fuel_type, city):\n",
    "        self.fuel_type = fuel_type\n",
    "        self.city = city\n",
    "        \n",
    "    def __str__(self):\n",
    "        return (\"Engine:\\n \\tFuel Type: \"+self.fuel_type+\n",
    "               \"\\n \\tManucturing City: \"+self.city)\n",
    "    \n",
    "class Price:\n",
    "    def __init__(self, price_range):\n",
    "        self.price_range = price_range\n",
    "        \n",
    "    def __str__(self):\n",
    "        return \"Price:\\n \\tRange: \"+self.price_range\n",
    "    \n",
    "class Car:\n",
    "    def __init__(self, Brand, Engine, Price):\n",
    "        self.brand = Brand\n",
    "        self.engine = Engine\n",
    "        self.price = Price\n",
    "        \n",
    "    def __str__(self):\n",
    "        return (\"Car:\\n\"+str(self.brand)+\n",
    "               \"\\n\"+str(self.engine)+\"\\n\"+str(self.price))\n",
    "        \n",
    "        \n",
    "b = Brand(\"Ferrari\",\"Itay-Dutch\",1940)\n",
    "e = Engine(\"Gasoline\",\"Maranello\")\n",
    "p = Price(\"High\")\n",
    "car = Car(b, e, p)\n",
    "print(car)"
   ]
  },
  {
   "cell_type": "markdown",
   "metadata": {},
   "source": [
    "# Dynamic Extension"
   ]
  },
  {
   "cell_type": "code",
   "execution_count": 11,
   "metadata": {},
   "outputs": [
    {
     "name": "stdout",
     "output_type": "stream",
     "text": [
      "Teacher ID: 11,\tCourse Name: Math,\tExperience: 8\n",
      "Student ID: 1,\tName: abc,\tGraduation Year: 2011\n"
     ]
    }
   ],
   "source": [
    "class student:\n",
    "    def __init__(self, ID, name, year):\n",
    "        self.ID = ID\n",
    "        self.name = name\n",
    "        self.year = year\n",
    "        \n",
    "    def __str__(self):\n",
    "        return \"Student ID: %d,\\tName: %s,\\tGraduation Year: %d\" %(self.ID,self.name,self.year)\n",
    "    \n",
    "class teacher:\n",
    "    def __init__(self, ID, subject, teaching_year, record):\n",
    "        self.ID = ID\n",
    "        self.subject = subject\n",
    "        self.teaching_year = teaching_year\n",
    "        self.record = record\n",
    "        \n",
    "    def __str__(self):\n",
    "        return (\"Teacher ID: %d,\\tCourse Name: %s,\\tExperience: %d\" %(self.ID,self.subject,self.teaching_year)+\n",
    "                \"\\n\"+str(self.record))\n",
    "    \n",
    "s = student(1, \"abc\", 2011)\n",
    "t = teacher(11,\"Math\",8,s)\n",
    "print(t)"
   ]
  }
 ],
 "metadata": {
  "kernelspec": {
   "display_name": "Python 3",
   "language": "python",
   "name": "python3"
  },
  "language_info": {
   "codemirror_mode": {
    "name": "ipython",
    "version": 3
   },
   "file_extension": ".py",
   "mimetype": "text/x-python",
   "name": "python",
   "nbconvert_exporter": "python",
   "pygments_lexer": "ipython3",
   "version": "3.7.3"
  }
 },
 "nbformat": 4,
 "nbformat_minor": 4
}
