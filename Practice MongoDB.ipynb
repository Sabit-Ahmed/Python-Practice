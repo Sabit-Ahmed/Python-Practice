{
 "cells": [
  {
   "cell_type": "markdown",
   "metadata": {},
   "source": [
    "# MongoDB Local"
   ]
  },
  {
   "cell_type": "markdown",
   "metadata": {},
   "source": [
    "### Connection and Create DB"
   ]
  },
  {
   "cell_type": "code",
   "execution_count": 1,
   "metadata": {},
   "outputs": [],
   "source": [
    "import pymongo"
   ]
  },
  {
   "cell_type": "code",
   "execution_count": 2,
   "metadata": {},
   "outputs": [
    {
     "data": {
      "text/plain": [
       "MongoClient(host=['localhost:27017'], document_class=dict, tz_aware=False, connect=True)"
      ]
     },
     "execution_count": 2,
     "metadata": {},
     "output_type": "execute_result"
    }
   ],
   "source": [
    "DEFAULT_CONNECTION_URL = \"mongodb://localhost:27017/\"\n",
    "DB_NAME = \"DB_Name\"\n",
    "\n",
    "# Establish a connection with mongoDB\n",
    "client = pymongo.MongoClient(DEFAULT_CONNECTION_URL)\n",
    "client"
   ]
  },
  {
   "cell_type": "code",
   "execution_count": 5,
   "metadata": {},
   "outputs": [],
   "source": [
    "DEFAULT_CONNECTION_URL = \"mongodb://localhost:27017/\"\n",
    "DB_NAME = \"DB_Name\"\n",
    "\n",
    "# Establish a connection with mongoDB\n",
    "client = pymongo.MongoClient(DEFAULT_CONNECTION_URL)\n",
    "\n",
    "# Create a DB\n",
    "dataBase = client[DB_NAME]"
   ]
  },
  {
   "cell_type": "code",
   "execution_count": 6,
   "metadata": {},
   "outputs": [
    {
     "data": {
      "text/plain": [
       "['NewTest', 'admin', 'config', 'crawlerDB', 'local']"
      ]
     },
     "execution_count": 6,
     "metadata": {},
     "output_type": "execute_result"
    }
   ],
   "source": [
    "client.list_database_names()"
   ]
  },
  {
   "cell_type": "code",
   "execution_count": 7,
   "metadata": {},
   "outputs": [
    {
     "name": "stdout",
     "output_type": "stream",
     "text": [
      "DB: 'DB_Name' not exists\n"
     ]
    },
    {
     "data": {
      "text/plain": [
       "False"
      ]
     },
     "execution_count": 7,
     "metadata": {},
     "output_type": "execute_result"
    }
   ],
   "source": [
    "def check_db_exists(db_name, client):\n",
    "    DBlist = client.list_database_names()\n",
    "    if db_name in DBlist:\n",
    "        print(\"DB: {} exists\".format(dbname))\n",
    "        return True\n",
    "    else:\n",
    "        print(f\"DB: '{db_name}' not exists\")\n",
    "        return False\n",
    "    \n",
    "check_db_exists(DB_NAME, client)"
   ]
  },
  {
   "cell_type": "code",
   "execution_count": 8,
   "metadata": {},
   "outputs": [
    {
     "name": "stdout",
     "output_type": "stream",
     "text": [
      "DB: 'DB_Name' not exists\n"
     ]
    },
    {
     "data": {
      "text/plain": [
       "False"
      ]
     },
     "execution_count": 8,
     "metadata": {},
     "output_type": "execute_result"
    }
   ],
   "source": [
    "def check_db_exists(db_name, client):\n",
    "    DBlist = client.list_database_names()\n",
    "    if db_name in DBlist:\n",
    "        print(\"DB: {} exists\".format(db_name))\n",
    "        return True\n",
    "    else:\n",
    "        print(\"DB: '{}' not exists\".format(db_name))\n",
    "        return False\n",
    "    \n",
    "check_db_exists(DB_NAME, client)"
   ]
  },
  {
   "cell_type": "code",
   "execution_count": 9,
   "metadata": {},
   "outputs": [
    {
     "name": "stdout",
     "output_type": "stream",
     "text": [
      "DB: 'DB_Name' not exists\n"
     ]
    }
   ],
   "source": [
    "def check_db_exists(db_name, client):\n",
    "    DBlist = client.list_database_names()\n",
    "    if db_name in DBlist:\n",
    "        print(\"DB: {} exists\".format(db_name))\n",
    "        return True\n",
    "    else:\n",
    "        print(\"DB: '{}' not exists\".format(db_name))\n",
    "        return False\n",
    "    \n",
    "_ = check_db_exists(DB_NAME, client)"
   ]
  },
  {
   "cell_type": "code",
   "execution_count": 10,
   "metadata": {},
   "outputs": [
    {
     "name": "stdout",
     "output_type": "stream",
     "text": [
      "DB: admin exists\n"
     ]
    }
   ],
   "source": [
    "def check_db_exists(db_name, client):\n",
    "    DBlist = client.list_database_names()\n",
    "    if db_name in DBlist:\n",
    "        print(\"DB: {} exists\".format(db_name))\n",
    "        return True\n",
    "    else:\n",
    "        print(\"DB: '{}' not exists\".format(db_name))\n",
    "        return False\n",
    "    \n",
    "_ = check_db_exists('admin', client)"
   ]
  },
  {
   "cell_type": "code",
   "execution_count": 11,
   "metadata": {},
   "outputs": [
    {
     "data": {
      "text/plain": [
       "MongoClient(host=['localhost:27017'], document_class=dict, tz_aware=False, connect=True)"
      ]
     },
     "execution_count": 11,
     "metadata": {},
     "output_type": "execute_result"
    }
   ],
   "source": [
    "url = \"mongodb://localhost:27017/\"\n",
    "client = pymongo.MongoClient(url)\n",
    "client"
   ]
  },
  {
   "cell_type": "code",
   "execution_count": 12,
   "metadata": {},
   "outputs": [
    {
     "data": {
      "text/plain": [
       "Database(MongoClient(host=['localhost:27017'], document_class=dict, tz_aware=False, connect=True), 'NewTest')"
      ]
     },
     "execution_count": 12,
     "metadata": {},
     "output_type": "execute_result"
    }
   ],
   "source": [
    "#create a db\n",
    "db_name = \"NewTest\"\n",
    "db = client[db_name]\n",
    "db"
   ]
  },
  {
   "cell_type": "code",
   "execution_count": 13,
   "metadata": {},
   "outputs": [
    {
     "name": "stdout",
     "output_type": "stream",
     "text": [
      "DB: 'NewTest' exists\n"
     ]
    }
   ],
   "source": [
    "def check(db_name, client):\n",
    "    db_lists = client.list_database_names()\n",
    "    if db_name in db_lists:\n",
    "        print(f\"DB: '{db_name}' exists\")\n",
    "        return True\n",
    "    else:\n",
    "        print(f\"DB: '{db_name}' does not exist!\")\n",
    "        return False\n",
    "    \n",
    "_ = check(db_name=db_name, client=client)"
   ]
  },
  {
   "cell_type": "markdown",
   "metadata": {},
   "source": [
    "### STEP 2: Create a collection"
   ]
  },
  {
   "cell_type": "code",
   "execution_count": 14,
   "metadata": {},
   "outputs": [
    {
     "data": {
      "text/plain": [
       "Collection(Database(MongoClient(host=['localhost:27017'], document_class=dict, tz_aware=False, connect=True), 'NewTest'), 'products')"
      ]
     },
     "execution_count": 14,
     "metadata": {},
     "output_type": "execute_result"
    }
   ],
   "source": [
    "collection_name = \"products\"\n",
    "collection = db[collection_name]\n",
    "collection"
   ]
  },
  {
   "cell_type": "code",
   "execution_count": 15,
   "metadata": {},
   "outputs": [
    {
     "name": "stdout",
     "output_type": "stream",
     "text": [
      "Collection: 'products' in DB: 'NewTest' does not exist till now!\n"
     ]
    }
   ],
   "source": [
    "def check_collection(collection_name, db_name, db):\n",
    "    col_lists = db.list_collection_names()\n",
    "    if collection_name in col_lists:\n",
    "        print(f\"Collection: '{collection_name}' in DB: '{db_name}' exists!\")\n",
    "        return True\n",
    "    else:\n",
    "        print(f\"Collection: '{collection_name}' in DB: '{db_name}' does not exist till now!\")\n",
    "        return False\n",
    "\n",
    "_ = check_collection(collection_name, db_name, db)"
   ]
  },
  {
   "cell_type": "markdown",
   "metadata": {},
   "source": [
    "### STEP 3: Insert a record in the collection"
   ]
  },
  {
   "cell_type": "code",
   "execution_count": 16,
   "metadata": {},
   "outputs": [
    {
     "data": {
      "text/plain": [
       "<pymongo.results.InsertOneResult at 0x14fda8d0988>"
      ]
     },
     "execution_count": 16,
     "metadata": {},
     "output_type": "execute_result"
    }
   ],
   "source": [
    "record = {'key1':'value1',\n",
    "         'key2':'value2',\n",
    "         'key3':'value3',\n",
    "         'key2':'value4',\n",
    "         'key5':'value2'}\n",
    "collection.insert_one(record)"
   ]
  },
  {
   "cell_type": "code",
   "execution_count": 17,
   "metadata": {},
   "outputs": [
    {
     "name": "stdout",
     "output_type": "stream",
     "text": [
      "Collection: 'products' in DB: 'NewTest' exists!\n"
     ]
    }
   ],
   "source": [
    "_ = check_collection(collection_name, db_name, db)"
   ]
  },
  {
   "cell_type": "code",
   "execution_count": 18,
   "metadata": {},
   "outputs": [
    {
     "name": "stdout",
     "output_type": "stream",
     "text": [
      "DB: 'NewTest' exists\n"
     ]
    }
   ],
   "source": [
    "_ = check(db_name=db_name, client=client)"
   ]
  },
  {
   "cell_type": "markdown",
   "metadata": {},
   "source": [
    "### STEP 4: Insert multiple records\n"
   ]
  },
  {
   "cell_type": "code",
   "execution_count": 19,
   "metadata": {},
   "outputs": [],
   "source": [
    "record = [\n",
    "    {'key1':'value1',\n",
    "     'key2':'value2',\n",
    "     'key3':'value3',\n",
    "     'key5':'value2'},\n",
    "    {'companyName': 'Something',\n",
    "     'product': 'SomeProduct1',\n",
    "     'courseOffered': 'Machine Learning with Deployment'},\n",
    "\n",
    "    {'companyName': 'Something',\n",
    "     'product': 'SomeProduct2',\n",
    "     'courseOffered': 'Deep Learning for NLP and Computer vision'},\n",
    "\n",
    "    {'companyName': 'Something',\n",
    "     'product': 'SomeProduct3',\n",
    "     'courseOffered': 'Data Science Masters Program'},\n",
    "]\n",
    "\n",
    "rec = collection.insert_many(record)"
   ]
  },
  {
   "cell_type": "code",
   "execution_count": 20,
   "metadata": {},
   "outputs": [
    {
     "name": "stdout",
     "output_type": "stream",
     "text": [
      "0. 5f7f413435ace4492283590c\n",
      "1. 5f7f413435ace4492283590d\n",
      "2. 5f7f413435ace4492283590e\n",
      "3. 5f7f413435ace4492283590f\n"
     ]
    }
   ],
   "source": [
    "# lets print he unique ID that of the record that we have inserted -\n",
    "ID = rec.inserted_ids\n",
    "for index, unique_id in enumerate(ID):\n",
    "    print(f\"{index}. {unique_id}\")"
   ]
  },
  {
   "cell_type": "code",
   "execution_count": 21,
   "metadata": {},
   "outputs": [
    {
     "data": {
      "text/plain": [
       "<pymongo.results.InsertManyResult at 0x14fdaf3f588>"
      ]
     },
     "execution_count": 21,
     "metadata": {},
     "output_type": "execute_result"
    }
   ],
   "source": [
    "COLLECTION_NAME = \"Faculties5\"\n",
    "faculties = db[COLLECTION_NAME]\n",
    "\n",
    "list_of_records_user_defined_id = [\n",
    "    {\"_id\": \"1\",\n",
    "    \"companyName\": \"Something\",\n",
    "    \"Faculty\": \"S. Kumar\"},\n",
    "    {\"_id\": \"2\",\n",
    "    \"companyName\": \"Something\",\n",
    "    \"Faculty\": \"V. Sagar\"},\n",
    "    {\"_id\": \"3\",\n",
    "    \"companyName\": \"Something\",\n",
    "    \"Faculty\": \"V. Sagar\"},\n",
    "]\n",
    "\n",
    "faculties_record = faculties.insert_many(list_of_records_user_defined_id)\n",
    "faculties_record"
   ]
  },
  {
   "cell_type": "markdown",
   "metadata": {},
   "source": [
    "### STEP 5: Find method in MongoDB"
   ]
  },
  {
   "cell_type": "code",
   "execution_count": 22,
   "metadata": {},
   "outputs": [
    {
     "name": "stdout",
     "output_type": "stream",
     "text": [
      "The first recod of collection 'Faculties5' is:\n",
      "'{'_id': '1', 'companyName': 'Something', 'Faculty': 'S. Kumar'}'\n"
     ]
    }
   ],
   "source": [
    "import pymongo\n",
    "\n",
    "client = pymongo.MongoClient(\"mongodb://localhost:27017/\")\n",
    "db_name = \"NewTest\"\n",
    "db = client[db_name]\n",
    "COLLECTION_NAME = \"Faculties5\"\n",
    "faculties = db[COLLECTION_NAME]\n",
    "first_rec = faculties.find_one()\n",
    "print(f\"The first recod of collection '{COLLECTION_NAME}' is:\\n'{first_rec}'\")"
   ]
  },
  {
   "cell_type": "code",
   "execution_count": 23,
   "metadata": {},
   "outputs": [
    {
     "name": "stdout",
     "output_type": "stream",
     "text": [
      "Collection: 'Faculties5' in DB: 'NewTest' exists!\n"
     ]
    }
   ],
   "source": [
    "def check_collection(collection_name, db_name, db):\n",
    "    col_lists = db.list_collection_names()\n",
    "    if collection_name in col_lists:\n",
    "        print(f\"Collection: '{collection_name}' in DB: '{db_name}' exists!\")\n",
    "        return True\n",
    "    else:\n",
    "        print(f\"Collection: '{collection_name}' in DB: '{db_name}' does not exist till now!\")\n",
    "        return False\n",
    "\n",
    "_ = check_collection(collection_name=COLLECTION_NAME, db_name=db_name, db=db)"
   ]
  },
  {
   "cell_type": "code",
   "execution_count": 24,
   "metadata": {},
   "outputs": [
    {
     "name": "stdout",
     "output_type": "stream",
     "text": [
      "0: {'_id': '1', 'companyName': 'Something', 'Faculty': 'S. Kumar'}\n",
      "1: {'_id': '2', 'companyName': 'Something', 'Faculty': 'V. Sagar'}\n",
      "2: {'_id': '3', 'companyName': 'Something', 'Faculty': 'V. Sagar'}\n"
     ]
    }
   ],
   "source": [
    "all_rec = faculties.find()\n",
    "for index, record in enumerate(all_rec):\n",
    "    print(f\"{index}: {record}\")"
   ]
  },
  {
   "cell_type": "code",
   "execution_count": 25,
   "metadata": {},
   "outputs": [
    {
     "name": "stdout",
     "output_type": "stream",
     "text": [
      "{'_id': '1', 'companyName': 'Something', 'Faculty': 'S. Kumar'}\n"
     ]
    }
   ],
   "source": [
    "desired_rec = faculties.find({\"_id\":\"1\"})\n",
    "for i in desired_rec:\n",
    "    print(i)"
   ]
  },
  {
   "cell_type": "code",
   "execution_count": 26,
   "metadata": {},
   "outputs": [
    {
     "name": "stdout",
     "output_type": "stream",
     "text": [
      "{'_id': '1', 'Faculty': 'S. Kumar'}\n",
      "{'_id': '2', 'Faculty': 'V. Sagar'}\n",
      "{'_id': '3', 'Faculty': 'V. Sagar'}\n"
     ]
    }
   ],
   "source": [
    "desired_rec = faculties.find({},{\"Faculty\"})\n",
    "for i in desired_rec:\n",
    "    print(i)"
   ]
  },
  {
   "cell_type": "code",
   "execution_count": 27,
   "metadata": {},
   "outputs": [
    {
     "ename": "TypeError",
     "evalue": "filter must be an instance of dict, bson.son.SON, or any other type that inherits from collections.Mapping",
     "output_type": "error",
     "traceback": [
      "\u001b[1;31m---------------------------------------------------------------------------\u001b[0m",
      "\u001b[1;31mTypeError\u001b[0m                                 Traceback (most recent call last)",
      "\u001b[1;32m<ipython-input-27-d76ad807f658>\u001b[0m in \u001b[0;36m<module>\u001b[1;34m\u001b[0m\n\u001b[1;32m----> 1\u001b[1;33m \u001b[0mdesired_rec\u001b[0m \u001b[1;33m=\u001b[0m \u001b[0mfaculties\u001b[0m\u001b[1;33m.\u001b[0m\u001b[0mfind\u001b[0m\u001b[1;33m(\u001b[0m\u001b[1;33m{\u001b[0m\u001b[1;34m\"Faculty\"\u001b[0m\u001b[1;33m}\u001b[0m\u001b[1;33m)\u001b[0m\u001b[1;33m\u001b[0m\u001b[1;33m\u001b[0m\u001b[0m\n\u001b[0m\u001b[0;32m      2\u001b[0m \u001b[1;32mfor\u001b[0m \u001b[0mi\u001b[0m \u001b[1;32min\u001b[0m \u001b[0mdesired_rec\u001b[0m\u001b[1;33m:\u001b[0m\u001b[1;33m\u001b[0m\u001b[1;33m\u001b[0m\u001b[0m\n\u001b[0;32m      3\u001b[0m     \u001b[0mprint\u001b[0m\u001b[1;33m(\u001b[0m\u001b[0mi\u001b[0m\u001b[1;33m)\u001b[0m\u001b[1;33m\u001b[0m\u001b[1;33m\u001b[0m\u001b[0m\n",
      "\u001b[1;32m~\\Anaconda3\\lib\\site-packages\\pymongo\\collection.py\u001b[0m in \u001b[0;36mfind\u001b[1;34m(self, *args, **kwargs)\u001b[0m\n\u001b[0;32m   1521\u001b[0m \u001b[1;33m\u001b[0m\u001b[0m\n\u001b[0;32m   1522\u001b[0m         \"\"\"\n\u001b[1;32m-> 1523\u001b[1;33m         \u001b[1;32mreturn\u001b[0m \u001b[0mCursor\u001b[0m\u001b[1;33m(\u001b[0m\u001b[0mself\u001b[0m\u001b[1;33m,\u001b[0m \u001b[1;33m*\u001b[0m\u001b[0margs\u001b[0m\u001b[1;33m,\u001b[0m \u001b[1;33m**\u001b[0m\u001b[0mkwargs\u001b[0m\u001b[1;33m)\u001b[0m\u001b[1;33m\u001b[0m\u001b[1;33m\u001b[0m\u001b[0m\n\u001b[0m\u001b[0;32m   1524\u001b[0m \u001b[1;33m\u001b[0m\u001b[0m\n\u001b[0;32m   1525\u001b[0m     \u001b[1;32mdef\u001b[0m \u001b[0mfind_raw_batches\u001b[0m\u001b[1;33m(\u001b[0m\u001b[0mself\u001b[0m\u001b[1;33m,\u001b[0m \u001b[1;33m*\u001b[0m\u001b[0margs\u001b[0m\u001b[1;33m,\u001b[0m \u001b[1;33m**\u001b[0m\u001b[0mkwargs\u001b[0m\u001b[1;33m)\u001b[0m\u001b[1;33m:\u001b[0m\u001b[1;33m\u001b[0m\u001b[1;33m\u001b[0m\u001b[0m\n",
      "\u001b[1;32m~\\Anaconda3\\lib\\site-packages\\pymongo\\cursor.py\u001b[0m in \u001b[0;36m__init__\u001b[1;34m(self, collection, filter, projection, skip, limit, no_cursor_timeout, cursor_type, sort, allow_partial_results, oplog_replay, modifiers, batch_size, manipulate, collation, hint, max_scan, max_time_ms, max, min, return_key, show_record_id, snapshot, comment, session, allow_disk_use)\u001b[0m\n\u001b[0;32m    142\u001b[0m             \u001b[0mspec\u001b[0m \u001b[1;33m=\u001b[0m \u001b[1;33m{\u001b[0m\u001b[1;33m}\u001b[0m\u001b[1;33m\u001b[0m\u001b[1;33m\u001b[0m\u001b[0m\n\u001b[0;32m    143\u001b[0m \u001b[1;33m\u001b[0m\u001b[0m\n\u001b[1;32m--> 144\u001b[1;33m         \u001b[0mvalidate_is_mapping\u001b[0m\u001b[1;33m(\u001b[0m\u001b[1;34m\"filter\"\u001b[0m\u001b[1;33m,\u001b[0m \u001b[0mspec\u001b[0m\u001b[1;33m)\u001b[0m\u001b[1;33m\u001b[0m\u001b[1;33m\u001b[0m\u001b[0m\n\u001b[0m\u001b[0;32m    145\u001b[0m         \u001b[1;32mif\u001b[0m \u001b[1;32mnot\u001b[0m \u001b[0misinstance\u001b[0m\u001b[1;33m(\u001b[0m\u001b[0mskip\u001b[0m\u001b[1;33m,\u001b[0m \u001b[0mint\u001b[0m\u001b[1;33m)\u001b[0m\u001b[1;33m:\u001b[0m\u001b[1;33m\u001b[0m\u001b[1;33m\u001b[0m\u001b[0m\n\u001b[0;32m    146\u001b[0m             \u001b[1;32mraise\u001b[0m \u001b[0mTypeError\u001b[0m\u001b[1;33m(\u001b[0m\u001b[1;34m\"skip must be an instance of int\"\u001b[0m\u001b[1;33m)\u001b[0m\u001b[1;33m\u001b[0m\u001b[1;33m\u001b[0m\u001b[0m\n",
      "\u001b[1;32m~\\Anaconda3\\lib\\site-packages\\pymongo\\common.py\u001b[0m in \u001b[0;36mvalidate_is_mapping\u001b[1;34m(option, value)\u001b[0m\n\u001b[0;32m    494\u001b[0m         raise TypeError(\"%s must be an instance of dict, bson.son.SON, or \"\n\u001b[0;32m    495\u001b[0m                         \u001b[1;34m\"any other type that inherits from \"\u001b[0m\u001b[1;33m\u001b[0m\u001b[1;33m\u001b[0m\u001b[0m\n\u001b[1;32m--> 496\u001b[1;33m                         \"collections.Mapping\" % (option,))\n\u001b[0m\u001b[0;32m    497\u001b[0m \u001b[1;33m\u001b[0m\u001b[0m\n\u001b[0;32m    498\u001b[0m \u001b[1;33m\u001b[0m\u001b[0m\n",
      "\u001b[1;31mTypeError\u001b[0m: filter must be an instance of dict, bson.son.SON, or any other type that inherits from collections.Mapping"
     ]
    }
   ],
   "source": [
    "desired_rec = faculties.find({\"Faculty\"})\n",
    "for i in desired_rec:\n",
    "    print(i)"
   ]
  },
  {
   "cell_type": "code",
   "execution_count": 28,
   "metadata": {},
   "outputs": [
    {
     "ename": "TypeError",
     "evalue": "filter must be an instance of dict, bson.son.SON, or any other type that inherits from collections.Mapping",
     "output_type": "error",
     "traceback": [
      "\u001b[1;31m---------------------------------------------------------------------------\u001b[0m",
      "\u001b[1;31mTypeError\u001b[0m                                 Traceback (most recent call last)",
      "\u001b[1;32m<ipython-input-28-b38cc95bfbe4>\u001b[0m in \u001b[0;36m<module>\u001b[1;34m\u001b[0m\n\u001b[1;32m----> 1\u001b[1;33m \u001b[0mdesired_rec\u001b[0m \u001b[1;33m=\u001b[0m \u001b[0mfaculties\u001b[0m\u001b[1;33m.\u001b[0m\u001b[0mfind\u001b[0m\u001b[1;33m(\u001b[0m\u001b[1;33m{\u001b[0m\u001b[1;34m\"Faculty\"\u001b[0m\u001b[1;33m}\u001b[0m\u001b[1;33m,\u001b[0m\u001b[1;33m{\u001b[0m\u001b[1;33m}\u001b[0m\u001b[1;33m)\u001b[0m\u001b[1;33m\u001b[0m\u001b[1;33m\u001b[0m\u001b[0m\n\u001b[0m\u001b[0;32m      2\u001b[0m \u001b[1;32mfor\u001b[0m \u001b[0mi\u001b[0m \u001b[1;32min\u001b[0m \u001b[0mdesired_rec\u001b[0m\u001b[1;33m:\u001b[0m\u001b[1;33m\u001b[0m\u001b[1;33m\u001b[0m\u001b[0m\n\u001b[0;32m      3\u001b[0m     \u001b[0mprint\u001b[0m\u001b[1;33m(\u001b[0m\u001b[0mi\u001b[0m\u001b[1;33m)\u001b[0m\u001b[1;33m\u001b[0m\u001b[1;33m\u001b[0m\u001b[0m\n",
      "\u001b[1;32m~\\Anaconda3\\lib\\site-packages\\pymongo\\collection.py\u001b[0m in \u001b[0;36mfind\u001b[1;34m(self, *args, **kwargs)\u001b[0m\n\u001b[0;32m   1521\u001b[0m \u001b[1;33m\u001b[0m\u001b[0m\n\u001b[0;32m   1522\u001b[0m         \"\"\"\n\u001b[1;32m-> 1523\u001b[1;33m         \u001b[1;32mreturn\u001b[0m \u001b[0mCursor\u001b[0m\u001b[1;33m(\u001b[0m\u001b[0mself\u001b[0m\u001b[1;33m,\u001b[0m \u001b[1;33m*\u001b[0m\u001b[0margs\u001b[0m\u001b[1;33m,\u001b[0m \u001b[1;33m**\u001b[0m\u001b[0mkwargs\u001b[0m\u001b[1;33m)\u001b[0m\u001b[1;33m\u001b[0m\u001b[1;33m\u001b[0m\u001b[0m\n\u001b[0m\u001b[0;32m   1524\u001b[0m \u001b[1;33m\u001b[0m\u001b[0m\n\u001b[0;32m   1525\u001b[0m     \u001b[1;32mdef\u001b[0m \u001b[0mfind_raw_batches\u001b[0m\u001b[1;33m(\u001b[0m\u001b[0mself\u001b[0m\u001b[1;33m,\u001b[0m \u001b[1;33m*\u001b[0m\u001b[0margs\u001b[0m\u001b[1;33m,\u001b[0m \u001b[1;33m**\u001b[0m\u001b[0mkwargs\u001b[0m\u001b[1;33m)\u001b[0m\u001b[1;33m:\u001b[0m\u001b[1;33m\u001b[0m\u001b[1;33m\u001b[0m\u001b[0m\n",
      "\u001b[1;32m~\\Anaconda3\\lib\\site-packages\\pymongo\\cursor.py\u001b[0m in \u001b[0;36m__init__\u001b[1;34m(self, collection, filter, projection, skip, limit, no_cursor_timeout, cursor_type, sort, allow_partial_results, oplog_replay, modifiers, batch_size, manipulate, collation, hint, max_scan, max_time_ms, max, min, return_key, show_record_id, snapshot, comment, session, allow_disk_use)\u001b[0m\n\u001b[0;32m    142\u001b[0m             \u001b[0mspec\u001b[0m \u001b[1;33m=\u001b[0m \u001b[1;33m{\u001b[0m\u001b[1;33m}\u001b[0m\u001b[1;33m\u001b[0m\u001b[1;33m\u001b[0m\u001b[0m\n\u001b[0;32m    143\u001b[0m \u001b[1;33m\u001b[0m\u001b[0m\n\u001b[1;32m--> 144\u001b[1;33m         \u001b[0mvalidate_is_mapping\u001b[0m\u001b[1;33m(\u001b[0m\u001b[1;34m\"filter\"\u001b[0m\u001b[1;33m,\u001b[0m \u001b[0mspec\u001b[0m\u001b[1;33m)\u001b[0m\u001b[1;33m\u001b[0m\u001b[1;33m\u001b[0m\u001b[0m\n\u001b[0m\u001b[0;32m    145\u001b[0m         \u001b[1;32mif\u001b[0m \u001b[1;32mnot\u001b[0m \u001b[0misinstance\u001b[0m\u001b[1;33m(\u001b[0m\u001b[0mskip\u001b[0m\u001b[1;33m,\u001b[0m \u001b[0mint\u001b[0m\u001b[1;33m)\u001b[0m\u001b[1;33m:\u001b[0m\u001b[1;33m\u001b[0m\u001b[1;33m\u001b[0m\u001b[0m\n\u001b[0;32m    146\u001b[0m             \u001b[1;32mraise\u001b[0m \u001b[0mTypeError\u001b[0m\u001b[1;33m(\u001b[0m\u001b[1;34m\"skip must be an instance of int\"\u001b[0m\u001b[1;33m)\u001b[0m\u001b[1;33m\u001b[0m\u001b[1;33m\u001b[0m\u001b[0m\n",
      "\u001b[1;32m~\\Anaconda3\\lib\\site-packages\\pymongo\\common.py\u001b[0m in \u001b[0;36mvalidate_is_mapping\u001b[1;34m(option, value)\u001b[0m\n\u001b[0;32m    494\u001b[0m         raise TypeError(\"%s must be an instance of dict, bson.son.SON, or \"\n\u001b[0;32m    495\u001b[0m                         \u001b[1;34m\"any other type that inherits from \"\u001b[0m\u001b[1;33m\u001b[0m\u001b[1;33m\u001b[0m\u001b[0m\n\u001b[1;32m--> 496\u001b[1;33m                         \"collections.Mapping\" % (option,))\n\u001b[0m\u001b[0;32m    497\u001b[0m \u001b[1;33m\u001b[0m\u001b[0m\n\u001b[0;32m    498\u001b[0m \u001b[1;33m\u001b[0m\u001b[0m\n",
      "\u001b[1;31mTypeError\u001b[0m: filter must be an instance of dict, bson.son.SON, or any other type that inherits from collections.Mapping"
     ]
    }
   ],
   "source": [
    "desired_rec = faculties.find({\"Faculty\"},{})\n",
    "for i in desired_rec:\n",
    "    print(i)"
   ]
  },
  {
   "cell_type": "code",
   "execution_count": 29,
   "metadata": {},
   "outputs": [
    {
     "name": "stdout",
     "output_type": "stream",
     "text": [
      "{'_id': '2', 'companyName': 'Something', 'Faculty': 'V. Sagar'}\n",
      "{'_id': '3', 'companyName': 'Something', 'Faculty': 'V. Sagar'}\n"
     ]
    }
   ],
   "source": [
    "desired_rec = faculties.find({\"Faculty\":\"V. Sagar\"})\n",
    "for i in desired_rec:\n",
    "    print(i)"
   ]
  },
  {
   "cell_type": "code",
   "execution_count": 30,
   "metadata": {},
   "outputs": [
    {
     "name": "stdout",
     "output_type": "stream",
     "text": [
      "{'_id': '1'}\n",
      "{'_id': '2'}\n",
      "{'_id': '3'}\n"
     ]
    }
   ],
   "source": [
    "desired_rec = faculties.find({},{\"_id\"})\n",
    "for i in desired_rec:\n",
    "    print(i)"
   ]
  },
  {
   "cell_type": "markdown",
   "metadata": {},
   "source": [
    "### STEP 6: Query or filter out data in MongoDB"
   ]
  },
  {
   "cell_type": "code",
   "execution_count": 31,
   "metadata": {},
   "outputs": [
    {
     "name": "stdout",
     "output_type": "stream",
     "text": [
      "{'_id': '1', 'companyName': 'Something', 'Faculty': 'S. Kumar'}\n"
     ]
    }
   ],
   "source": [
    "query = {\"_id\":\"1\"}\n",
    "\n",
    "desired_rec = faculties.find(query)\n",
    "for i in desired_rec:\n",
    "    print(i)"
   ]
  },
  {
   "cell_type": "code",
   "execution_count": 32,
   "metadata": {},
   "outputs": [
    {
     "name": "stdout",
     "output_type": "stream",
     "text": [
      "{'_id': '2', 'companyName': 'Something', 'Faculty': 'V. Sagar'}\n",
      "{'_id': '3', 'companyName': 'Something', 'Faculty': 'V. Sagar'}\n"
     ]
    }
   ],
   "source": [
    "query2 = {\"_id\":{\"$gt\":'1'}}\n",
    "\n",
    "desired_rec = faculties.find(query2)\n",
    "for i in desired_rec:\n",
    "    print(i)"
   ]
  },
  {
   "cell_type": "code",
   "execution_count": 33,
   "metadata": {},
   "outputs": [
    {
     "name": "stdout",
     "output_type": "stream",
     "text": [
      "{'_id': '1', 'companyName': 'Something', 'Faculty': 'S. Kumar'}\n",
      "{'_id': '2', 'companyName': 'Something', 'Faculty': 'V. Sagar'}\n",
      "{'_id': '3', 'companyName': 'Something', 'Faculty': 'V. Sagar'}\n"
     ]
    }
   ],
   "source": [
    "query2 = {\"_id\":{\"$gte\":'1'}}\n",
    "\n",
    "desired_rec = faculties.find(query2)\n",
    "for i in desired_rec:\n",
    "    print(i)"
   ]
  },
  {
   "cell_type": "code",
   "execution_count": 34,
   "metadata": {},
   "outputs": [
    {
     "name": "stdout",
     "output_type": "stream",
     "text": [
      "{'_id': '1', 'companyName': 'Something', 'Faculty': 'S. Kumar'}\n",
      "{'_id': '2', 'companyName': 'Something', 'Faculty': 'V. Sagar'}\n"
     ]
    }
   ],
   "source": [
    "query2 = {\"_id\":{\"$lt\":'3'}}\n",
    "\n",
    "desired_rec = faculties.find(query2)\n",
    "for i in desired_rec:\n",
    "    print(i)"
   ]
  },
  {
   "cell_type": "code",
   "execution_count": 35,
   "metadata": {},
   "outputs": [
    {
     "name": "stdout",
     "output_type": "stream",
     "text": [
      "{'_id': '1', 'companyName': 'Something', 'Faculty': 'S. Kumar'}\n",
      "{'_id': '3', 'companyName': 'Something', 'Faculty': 'V. Sagar'}\n"
     ]
    }
   ],
   "source": [
    "query2 = {\"_id\":{\"$in\":['3','1']}}\n",
    "\n",
    "desired_rec = faculties.find(query2)\n",
    "for i in desired_rec:\n",
    "    print(i)"
   ]
  },
  {
   "cell_type": "code",
   "execution_count": 36,
   "metadata": {},
   "outputs": [],
   "source": [
    "query2 = {\"_id\":{\"$in\":[3,1]}}\n",
    "\n",
    "desired_rec = faculties.find(query2)\n",
    "for i in desired_rec:\n",
    "    print(i)"
   ]
  },
  {
   "cell_type": "code",
   "execution_count": 37,
   "metadata": {},
   "outputs": [
    {
     "name": "stdout",
     "output_type": "stream",
     "text": [
      "{'_id': '1', 'companyName': 'Something', 'Faculty': 'S. Kumar'}\n"
     ]
    }
   ],
   "source": [
    "query2 = {\"_id\":{\"$in\":['1','5']}}\n",
    "\n",
    "desired_rec = faculties.find(query2)\n",
    "for i in desired_rec:\n",
    "    print(i)"
   ]
  },
  {
   "cell_type": "markdown",
   "metadata": {},
   "source": [
    "### STEP 7: Delete one or many documents in MongoDB"
   ]
  },
  {
   "cell_type": "code",
   "execution_count": 38,
   "metadata": {},
   "outputs": [
    {
     "data": {
      "text/plain": [
       "<pymongo.results.InsertManyResult at 0x14fdb05c908>"
      ]
     },
     "execution_count": 38,
     "metadata": {},
     "output_type": "execute_result"
    }
   ],
   "source": [
    "# Lets add some random data in faculties\n",
    "random_data = [\n",
    "    {'_id': '55', 'companyName': 'Something', 'Faculty': 'XYZ'},\n",
    "    {'_id': '456', 'companyName': 'Something', 'Faculty': 'ABC'},\n",
    "    {'_id': '58', 'companyName': 'Something', 'Faculty': 'PQR'},\n",
    "]\n",
    "\n",
    "faculties.insert_many(random_data)"
   ]
  },
  {
   "cell_type": "code",
   "execution_count": 39,
   "metadata": {},
   "outputs": [
    {
     "data": {
      "text/plain": [
       "<pymongo.results.DeleteResult at 0x14fdaff1348>"
      ]
     },
     "execution_count": 39,
     "metadata": {},
     "output_type": "execute_result"
    }
   ],
   "source": [
    "query_to_delete = {\"Faculty\":\"XYZ\"}\n",
    "faculties.delete_one(query_to_delete)"
   ]
  },
  {
   "cell_type": "code",
   "execution_count": 40,
   "metadata": {},
   "outputs": [
    {
     "data": {
      "text/plain": [
       "<pymongo.results.DeleteResult at 0x14fdb064808>"
      ]
     },
     "execution_count": 40,
     "metadata": {},
     "output_type": "execute_result"
    }
   ],
   "source": [
    "query_to_delete = {\"_id\":{\"$gt\":'3'}}\n",
    "faculties.delete_many(query_to_delete)"
   ]
  },
  {
   "cell_type": "code",
   "execution_count": 41,
   "metadata": {},
   "outputs": [
    {
     "data": {
      "text/plain": [
       "<pymongo.results.DeleteResult at 0x14fdb06ae48>"
      ]
     },
     "execution_count": 41,
     "metadata": {},
     "output_type": "execute_result"
    }
   ],
   "source": [
    "##Delete all the documents in a collection\n",
    "f = \"Faculties3\"\n",
    "fac = db[f]\n",
    "fac.delete_many({})"
   ]
  },
  {
   "cell_type": "markdown",
   "metadata": {},
   "source": [
    "### STEP 8: Drop the entire collection"
   ]
  },
  {
   "cell_type": "code",
   "execution_count": 42,
   "metadata": {},
   "outputs": [],
   "source": [
    "f = \"Faculties2\"\n",
    "fac = db[f]\n",
    "fac.drop()"
   ]
  },
  {
   "cell_type": "code",
   "execution_count": 43,
   "metadata": {},
   "outputs": [],
   "source": [
    "faculties.drop()"
   ]
  },
  {
   "cell_type": "code",
   "execution_count": 44,
   "metadata": {},
   "outputs": [
    {
     "name": "stdout",
     "output_type": "stream",
     "text": [
      "Collection: 'Faculties2' in DB: 'NewTest' does not exist till now!\n"
     ]
    }
   ],
   "source": [
    "_ = check_collection(f, db_name, db)"
   ]
  },
  {
   "cell_type": "code",
   "execution_count": 45,
   "metadata": {},
   "outputs": [
    {
     "name": "stdout",
     "output_type": "stream",
     "text": [
      "Collection: 'Faculties5' in DB: 'NewTest' does not exist till now!\n"
     ]
    }
   ],
   "source": [
    "COLLECTION_NAME = \"Faculties5\"\n",
    "_ = check_collection(COLLECTION_NAME, db_name, db)"
   ]
  },
  {
   "cell_type": "code",
   "execution_count": 46,
   "metadata": {},
   "outputs": [
    {
     "name": "stdout",
     "output_type": "stream",
     "text": [
      "Collection: 'Faculties3' in DB: 'NewTest' exists!\n"
     ]
    }
   ],
   "source": [
    "COLLECTION_NAME = \"Faculties3\"\n",
    "_ = check_collection(COLLECTION_NAME, db_name, db)"
   ]
  },
  {
   "cell_type": "markdown",
   "metadata": {},
   "source": [
    "### STEP 9: Update"
   ]
  },
  {
   "cell_type": "code",
   "execution_count": 47,
   "metadata": {},
   "outputs": [
    {
     "name": "stdout",
     "output_type": "stream",
     "text": [
      "{'_id': ObjectId('5f7f412f35ace4492283590b'), 'key1': 'value1', 'key2': 'value4', 'key3': 'value3', 'key5': 'value2'}\n",
      "\n",
      "{'_id': ObjectId('5f7f413435ace4492283590c'), 'key1': 'value1', 'key2': 'value2', 'key3': 'value3', 'key5': 'value2'}\n",
      "\n",
      "{'_id': ObjectId('5f7f413435ace4492283590d'), 'companyName': 'Something', 'product': 'SomeProduct1', 'courseOffered': 'Machine Learning with Deployment'}\n",
      "\n",
      "{'_id': ObjectId('5f7f413435ace4492283590e'), 'companyName': 'Something', 'product': 'SomeProduct2', 'courseOffered': 'Deep Learning for NLP and Computer vision'}\n",
      "\n",
      "{'_id': ObjectId('5f7f413435ace4492283590f'), 'companyName': 'Something', 'product': 'SomeProduct3', 'courseOffered': 'Data Science Masters Program'}\n",
      "\n"
     ]
    }
   ],
   "source": [
    "COLLECTION_NAME = \"products\"\n",
    "\n",
    "products = db[COLLECTION_NAME]\n",
    "\n",
    "all_record = products.find()\n",
    "\n",
    "for idx, record in enumerate(all_record):\n",
    "    print(f\"{record}\\n\")"
   ]
  },
  {
   "cell_type": "code",
   "execution_count": 48,
   "metadata": {},
   "outputs": [],
   "source": [
    "present_data = {\"key1\":'value1'}\n",
    "new_data = {\"$set\":{\"key1\":'value50'}}"
   ]
  },
  {
   "cell_type": "code",
   "execution_count": 49,
   "metadata": {},
   "outputs": [
    {
     "name": "stdout",
     "output_type": "stream",
     "text": [
      "{'_id': ObjectId('5f7f412f35ace4492283590b'), 'key1': 'value50', 'key2': 'value4', 'key3': 'value3', 'key5': 'value2'}\n",
      "\n",
      "{'_id': ObjectId('5f7f413435ace4492283590c'), 'key1': 'value50', 'key2': 'value2', 'key3': 'value3', 'key5': 'value2'}\n",
      "\n",
      "{'_id': ObjectId('5f7f413435ace4492283590d'), 'companyName': 'Something', 'product': 'SomeProduct1', 'courseOffered': 'Machine Learning with Deployment'}\n",
      "\n",
      "{'_id': ObjectId('5f7f413435ace4492283590e'), 'companyName': 'Something', 'product': 'SomeProduct2', 'courseOffered': 'Deep Learning for NLP and Computer vision'}\n",
      "\n",
      "{'_id': ObjectId('5f7f413435ace4492283590f'), 'companyName': 'Something', 'product': 'SomeProduct3', 'courseOffered': 'Data Science Masters Program'}\n",
      "\n"
     ]
    }
   ],
   "source": [
    "products.update_many(present_data, new_data)\n",
    "\n",
    "all_record = products.find()\n",
    "\n",
    "for idx, record in enumerate(all_record):\n",
    "    print(f\"{record}\\n\")"
   ]
  },
  {
   "cell_type": "code",
   "execution_count": 50,
   "metadata": {},
   "outputs": [],
   "source": [
    "present_data = {'companyName': 'Something'}\n",
    "new_data = {\"$set\": {'companyName': 'Something.ai'}}"
   ]
  },
  {
   "cell_type": "code",
   "execution_count": 51,
   "metadata": {},
   "outputs": [
    {
     "name": "stdout",
     "output_type": "stream",
     "text": [
      "{'_id': ObjectId('5f7f412f35ace4492283590b'), 'key1': 'value50', 'key2': 'value4', 'key3': 'value3', 'key5': 'value2'}\n",
      "\n",
      "{'_id': ObjectId('5f7f413435ace4492283590c'), 'key1': 'value50', 'key2': 'value2', 'key3': 'value3', 'key5': 'value2'}\n",
      "\n",
      "{'_id': ObjectId('5f7f413435ace4492283590d'), 'companyName': 'Something.ai', 'product': 'SomeProduct1', 'courseOffered': 'Machine Learning with Deployment'}\n",
      "\n",
      "{'_id': ObjectId('5f7f413435ace4492283590e'), 'companyName': 'Something.ai', 'product': 'SomeProduct2', 'courseOffered': 'Deep Learning for NLP and Computer vision'}\n",
      "\n",
      "{'_id': ObjectId('5f7f413435ace4492283590f'), 'companyName': 'Something.ai', 'product': 'SomeProduct3', 'courseOffered': 'Data Science Masters Program'}\n",
      "\n"
     ]
    }
   ],
   "source": [
    "products.update_many(present_data, new_data)\n",
    "\n",
    "all_record = products.find()\n",
    "\n",
    "for idx, record in enumerate(all_record):\n",
    "    print(f\"{record}\\n\")"
   ]
  },
  {
   "cell_type": "markdown",
   "metadata": {},
   "source": [
    "### STEP 9: Set limit to view N records"
   ]
  },
  {
   "cell_type": "code",
   "execution_count": 52,
   "metadata": {},
   "outputs": [
    {
     "name": "stdout",
     "output_type": "stream",
     "text": [
      "{'_id': ObjectId('5f7f412f35ace4492283590b'), 'key1': 'value50', 'key2': 'value4', 'key3': 'value3', 'key5': 'value2'}\n",
      "\n",
      "{'_id': ObjectId('5f7f413435ace4492283590c'), 'key1': 'value50', 'key2': 'value2', 'key3': 'value3', 'key5': 'value2'}\n",
      "\n",
      "{'_id': ObjectId('5f7f413435ace4492283590d'), 'companyName': 'Something.ai', 'product': 'SomeProduct1', 'courseOffered': 'Machine Learning with Deployment'}\n",
      "\n"
     ]
    }
   ],
   "source": [
    "no_of_rec = 3\n",
    "n_rec = products.find().limit(no_of_rec)\n",
    "\n",
    "for idx, record in enumerate(n_rec):\n",
    "    print(f\"{record}\\n\")"
   ]
  },
  {
   "cell_type": "code",
   "execution_count": null,
   "metadata": {},
   "outputs": [],
   "source": []
  }
 ],
 "metadata": {
  "kernelspec": {
   "display_name": "Python 3",
   "language": "python",
   "name": "python3"
  },
  "language_info": {
   "codemirror_mode": {
    "name": "ipython",
    "version": 3
   },
   "file_extension": ".py",
   "mimetype": "text/x-python",
   "name": "python",
   "nbconvert_exporter": "python",
   "pygments_lexer": "ipython3",
   "version": "3.7.3"
  }
 },
 "nbformat": 4,
 "nbformat_minor": 4
}
